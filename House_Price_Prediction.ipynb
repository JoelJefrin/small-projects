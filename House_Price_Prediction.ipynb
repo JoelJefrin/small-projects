{
  "cells": [
    {
      "cell_type": "markdown",
      "metadata": {
        "id": "view-in-github",
        "colab_type": "text"
      },
      "source": [
        "<a href=\"https://colab.research.google.com/github/JoelJefrin/small-projects/blob/main/House_Price_Prediction.ipynb\" target=\"_parent\"><img src=\"https://colab.research.google.com/assets/colab-badge.svg\" alt=\"Open In Colab\"/></a>"
      ]
    },
    {
      "cell_type": "markdown",
      "metadata": {
        "id": "JiCGRC7jdUe2"
      },
      "source": []
    },
    {
      "cell_type": "markdown",
      "metadata": {
        "id": "58v9Neyxee6I"
      },
      "source": [
        "### **NAME: JOEL JEFRIN**\n",
        "### **USN: 23BTRCL144**"
      ]
    },
    {
      "cell_type": "code",
      "execution_count": 3,
      "metadata": {
        "id": "t_ThuYBZXP4k"
      },
      "outputs": [],
      "source": [
        "import pandas as pd\n",
        "import numpy as np\n",
        "import matplotlib.pyplot as plt\n",
        "import tensorflow as tf\n",
        "from tensorflow import keras\n",
        "from sklearn.model_selection import train_test_split\n",
        "from sklearn.preprocessing import StandardScaler"
      ]
    },
    {
      "cell_type": "code",
      "execution_count": 4,
      "metadata": {
        "colab": {
          "base_uri": "https://localhost:8080/"
        },
        "id": "PtsCWG-2ZdLh",
        "outputId": "05f9585e-925f-4e0c-ba0e-da4f9139c0c2"
      },
      "outputs": [
        {
          "output_type": "stream",
          "name": "stdout",
          "text": [
            "Shape: (1168, 81)\n",
            "    Id  MSSubClass MSZoning  LotFrontage  LotArea Street Alley LotShape  \\\n",
            "0  968          20       RL          NaN     7390   Pave   NaN      IR1   \n",
            "1  739          90       RL         60.0    10800   Pave   NaN      Reg   \n",
            "2  696          20       RL         54.0    13811   Pave   NaN      IR1   \n",
            "3  239          20       RL         93.0    12030   Pave   NaN      Reg   \n",
            "4  891          50       RL         60.0     8064   Pave   NaN      Reg   \n",
            "\n",
            "  LandContour Utilities  ... PoolArea PoolQC  Fence MiscFeature MiscVal  \\\n",
            "0         Lvl    AllPub  ...        0    NaN    NaN         NaN       0   \n",
            "1         Lvl    AllPub  ...        0    NaN    NaN         NaN       0   \n",
            "2         Lvl    AllPub  ...        0    NaN    NaN         NaN       0   \n",
            "3         Lvl    AllPub  ...        0    NaN    NaN         NaN       0   \n",
            "4         Lvl    AllPub  ...        0    NaN  MnPrv        Shed    2000   \n",
            "\n",
            "  MoSold YrSold  SaleType  SaleCondition  SalePrice  \n",
            "0      7   2008        WD         Normal     135000  \n",
            "1      3   2009        WD         Alloca     179000  \n",
            "2      7   2006        WD         Normal     176000  \n",
            "3     12   2007       New        Partial     318000  \n",
            "4      7   2007        WD         Normal     122900  \n",
            "\n",
            "[5 rows x 81 columns]\n"
          ]
        }
      ],
      "source": [
        "df = pd.read_csv(\"house_train.csv\")\n",
        "print(\"Shape:\", df.shape)\n",
        "print(df.head())"
      ]
    },
    {
      "cell_type": "code",
      "execution_count": 5,
      "metadata": {
        "colab": {
          "base_uri": "https://localhost:8080/"
        },
        "id": "dOextQ0TZxYK",
        "outputId": "68cb0fe8-a6c5-4695-e0d2-77e3cb147ff1"
      },
      "outputs": [
        {
          "output_type": "stream",
          "name": "stderr",
          "text": [
            "/tmp/ipython-input-2379635307.py:7: FutureWarning: A value is trying to be set on a copy of a DataFrame or Series through chained assignment using an inplace method.\n",
            "The behavior will change in pandas 3.0. This inplace method will never work because the intermediate object on which we are setting values always behaves as a copy.\n",
            "\n",
            "For example, when doing 'df[col].method(value, inplace=True)', try using 'df.method({col: value}, inplace=True)' or df[col] = df[col].method(value) instead, to perform the operation inplace on the original object.\n",
            "\n",
            "\n",
            "  df[col].fillna(df[col].median(), inplace=True)\n",
            "/tmp/ipython-input-2379635307.py:11: FutureWarning: A value is trying to be set on a copy of a DataFrame or Series through chained assignment using an inplace method.\n",
            "The behavior will change in pandas 3.0. This inplace method will never work because the intermediate object on which we are setting values always behaves as a copy.\n",
            "\n",
            "For example, when doing 'df[col].method(value, inplace=True)', try using 'df.method({col: value}, inplace=True)' or df[col] = df[col].method(value) instead, to perform the operation inplace on the original object.\n",
            "\n",
            "\n",
            "  df[col].fillna(df[col].mode()[0], inplace=True)\n"
          ]
        }
      ],
      "source": [
        "# Drop Id column if present\n",
        "if \"Id\" in df.columns:\n",
        "    df = df.drop(columns=[\"Id\"])\n",
        "\n",
        "# Fill missing numeric values with median\n",
        "for col in df.select_dtypes(include=['float64','int64']).columns:\n",
        "    df[col].fillna(df[col].median(), inplace=True)\n",
        "\n",
        "# Fill missing categorical values with mode\n",
        "for col in df.select_dtypes(include=['object']).columns:\n",
        "    df[col].fillna(df[col].mode()[0], inplace=True)\n",
        "\n",
        "# One-hot encode categorical features\n",
        "df = pd.get_dummies(df, drop_first=True)\n",
        "\n",
        "# Features & target\n",
        "X = df.drop(\"SalePrice\", axis=1)\n",
        "y = df[\"SalePrice\"]\n",
        "\n",
        "# Train-test split\n",
        "X_train, X_test, y_train, y_test = train_test_split(\n",
        "    X, y, test_size=0.2, random_state=42\n",
        ")\n",
        "\n",
        "# Scale numeric features\n",
        "scaler = StandardScaler()\n",
        "X_train = scaler.fit_transform(X_train)\n",
        "X_test = scaler.transform(X_test)"
      ]
    },
    {
      "cell_type": "code",
      "execution_count": 6,
      "metadata": {
        "colab": {
          "base_uri": "https://localhost:8080/"
        },
        "id": "EwsTEi8DZ9Fr",
        "outputId": "007553a7-8cda-42d2-8f99-20840bbc9ebc"
      },
      "outputs": [
        {
          "output_type": "stream",
          "name": "stderr",
          "text": [
            "/usr/local/lib/python3.11/dist-packages/keras/src/layers/core/dense.py:93: UserWarning: Do not pass an `input_shape`/`input_dim` argument to a layer. When using Sequential models, prefer using an `Input(shape)` object as the first layer in the model instead.\n",
            "  super().__init__(activity_regularizer=activity_regularizer, **kwargs)\n"
          ]
        }
      ],
      "source": [
        "model = keras.Sequential([\n",
        "    keras.layers.Dense(128, activation='relu', input_shape=(X_train.shape[1],)),\n",
        "    keras.layers.Dense(64, activation='relu'),\n",
        "    keras.layers.Dense(32, activation='relu'),\n",
        "    keras.layers.Dense(1)  # single output for regression\n",
        "])\n",
        "\n",
        "model.compile(optimizer='adam', loss='mse', metrics=['mae'])\n"
      ]
    },
    {
      "cell_type": "code",
      "execution_count": 6,
      "metadata": {
        "id": "Xkbvpz2CbU9G"
      },
      "outputs": [],
      "source": []
    },
    {
      "cell_type": "code",
      "execution_count": 7,
      "metadata": {
        "id": "0Ti-42nhbXCz"
      },
      "outputs": [],
      "source": [
        "model = keras.Sequential([\n",
        "    keras.layers.Dense(128, activation='relu', input_shape=(X_train.shape[1],)),\n",
        "    keras.layers.Dense(64, activation='relu'),\n",
        "    keras.layers.Dense(32, activation='relu'),\n",
        "    keras.layers.Dense(1)\n",
        "])\n",
        "\n",
        "model.compile(optimizer='adam', loss='mse', metrics=['mae'])"
      ]
    },
    {
      "cell_type": "code",
      "execution_count": 8,
      "metadata": {
        "colab": {
          "base_uri": "https://localhost:8080/"
        },
        "id": "8J6nV7incRVH",
        "outputId": "ef0e9fba-e871-4459-82fe-0bfa5fef2a89"
      },
      "outputs": [
        {
          "output_type": "stream",
          "name": "stdout",
          "text": [
            "Epoch 1/100\n",
            "\u001b[1m24/24\u001b[0m \u001b[32m━━━━━━━━━━━━━━━━━━━━\u001b[0m\u001b[37m\u001b[0m \u001b[1m2s\u001b[0m 13ms/step - loss: 38611206144.0000 - mae: 180574.2344 - val_loss: 35459661824.0000 - val_mae: 169849.0625\n",
            "Epoch 2/100\n",
            "\u001b[1m24/24\u001b[0m \u001b[32m━━━━━━━━━━━━━━━━━━━━\u001b[0m\u001b[37m\u001b[0m \u001b[1m0s\u001b[0m 6ms/step - loss: 37777563648.0000 - mae: 178533.1719 - val_loss: 35432046592.0000 - val_mae: 169783.0312\n",
            "Epoch 3/100\n",
            "\u001b[1m24/24\u001b[0m \u001b[32m━━━━━━━━━━━━━━━━━━━━\u001b[0m\u001b[37m\u001b[0m \u001b[1m0s\u001b[0m 7ms/step - loss: 38812680192.0000 - mae: 181309.7188 - val_loss: 35321536512.0000 - val_mae: 169535.5000\n",
            "Epoch 4/100\n",
            "\u001b[1m24/24\u001b[0m \u001b[32m━━━━━━━━━━━━━━━━━━━━\u001b[0m\u001b[37m\u001b[0m \u001b[1m0s\u001b[0m 5ms/step - loss: 40389971968.0000 - mae: 183687.2969 - val_loss: 34980675584.0000 - val_mae: 168781.9062\n",
            "Epoch 5/100\n",
            "\u001b[1m24/24\u001b[0m \u001b[32m━━━━━━━━━━━━━━━━━━━━\u001b[0m\u001b[37m\u001b[0m \u001b[1m0s\u001b[0m 5ms/step - loss: 37652779008.0000 - mae: 177839.6719 - val_loss: 34156914688.0000 - val_mae: 166944.5938\n",
            "Epoch 6/100\n",
            "\u001b[1m24/24\u001b[0m \u001b[32m━━━━━━━━━━━━━━━━━━━━\u001b[0m\u001b[37m\u001b[0m \u001b[1m0s\u001b[0m 5ms/step - loss: 34915770368.0000 - mae: 172184.6094 - val_loss: 32528644096.0000 - val_mae: 163213.4531\n",
            "Epoch 7/100\n",
            "\u001b[1m24/24\u001b[0m \u001b[32m━━━━━━━━━━━━━━━━━━━━\u001b[0m\u001b[37m\u001b[0m \u001b[1m0s\u001b[0m 5ms/step - loss: 34751139840.0000 - mae: 170531.8906 - val_loss: 29755076608.0000 - val_mae: 156506.1719\n",
            "Epoch 8/100\n",
            "\u001b[1m24/24\u001b[0m \u001b[32m━━━━━━━━━━━━━━━━━━━━\u001b[0m\u001b[37m\u001b[0m \u001b[1m0s\u001b[0m 5ms/step - loss: 30220064768.0000 - mae: 161257.0000 - val_loss: 25650309120.0000 - val_mae: 145582.7812\n",
            "Epoch 9/100\n",
            "\u001b[1m24/24\u001b[0m \u001b[32m━━━━━━━━━━━━━━━━━━━━\u001b[0m\u001b[37m\u001b[0m \u001b[1m0s\u001b[0m 5ms/step - loss: 24645849088.0000 - mae: 146099.3906 - val_loss: 20593025024.0000 - val_mae: 129654.1953\n",
            "Epoch 10/100\n",
            "\u001b[1m24/24\u001b[0m \u001b[32m━━━━━━━━━━━━━━━━━━━━\u001b[0m\u001b[37m\u001b[0m \u001b[1m0s\u001b[0m 5ms/step - loss: 17591689216.0000 - mae: 123768.8828 - val_loss: 15620031488.0000 - val_mae: 110134.7266\n",
            "Epoch 11/100\n",
            "\u001b[1m24/24\u001b[0m \u001b[32m━━━━━━━━━━━━━━━━━━━━\u001b[0m\u001b[37m\u001b[0m \u001b[1m0s\u001b[0m 5ms/step - loss: 12379991040.0000 - mae: 97844.2500 - val_loss: 12056056832.0000 - val_mae: 91934.2266\n",
            "Epoch 12/100\n",
            "\u001b[1m24/24\u001b[0m \u001b[32m━━━━━━━━━━━━━━━━━━━━\u001b[0m\u001b[37m\u001b[0m \u001b[1m0s\u001b[0m 6ms/step - loss: 8169555456.0000 - mae: 77017.6562 - val_loss: 10080929792.0000 - val_mae: 82540.5078\n",
            "Epoch 13/100\n",
            "\u001b[1m24/24\u001b[0m \u001b[32m━━━━━━━━━━━━━━━━━━━━\u001b[0m\u001b[37m\u001b[0m \u001b[1m0s\u001b[0m 8ms/step - loss: 6508198912.0000 - mae: 66883.3359 - val_loss: 8814465024.0000 - val_mae: 76790.5938\n",
            "Epoch 14/100\n",
            "\u001b[1m24/24\u001b[0m \u001b[32m━━━━━━━━━━━━━━━━━━━━\u001b[0m\u001b[37m\u001b[0m \u001b[1m0s\u001b[0m 7ms/step - loss: 5486339072.0000 - mae: 60663.2695 - val_loss: 7856913408.0000 - val_mae: 70399.1797\n",
            "Epoch 15/100\n",
            "\u001b[1m24/24\u001b[0m \u001b[32m━━━━━━━━━━━━━━━━━━━━\u001b[0m\u001b[37m\u001b[0m \u001b[1m0s\u001b[0m 9ms/step - loss: 4873250816.0000 - mae: 56813.8828 - val_loss: 7053969920.0000 - val_mae: 64475.5938\n",
            "Epoch 16/100\n",
            "\u001b[1m24/24\u001b[0m \u001b[32m━━━━━━━━━━━━━━━━━━━━\u001b[0m\u001b[37m\u001b[0m \u001b[1m0s\u001b[0m 8ms/step - loss: 4002616832.0000 - mae: 50477.7773 - val_loss: 6454089216.0000 - val_mae: 59466.8594\n",
            "Epoch 17/100\n",
            "\u001b[1m24/24\u001b[0m \u001b[32m━━━━━━━━━━━━━━━━━━━━\u001b[0m\u001b[37m\u001b[0m \u001b[1m0s\u001b[0m 10ms/step - loss: 3917694208.0000 - mae: 45485.6719 - val_loss: 6011479040.0000 - val_mae: 55522.4453\n",
            "Epoch 18/100\n",
            "\u001b[1m24/24\u001b[0m \u001b[32m━━━━━━━━━━━━━━━━━━━━\u001b[0m\u001b[37m\u001b[0m \u001b[1m0s\u001b[0m 8ms/step - loss: 3001320448.0000 - mae: 42875.3320 - val_loss: 5701072384.0000 - val_mae: 52658.7344\n",
            "Epoch 19/100\n",
            "\u001b[1m24/24\u001b[0m \u001b[32m━━━━━━━━━━━━━━━━━━━━\u001b[0m\u001b[37m\u001b[0m \u001b[1m0s\u001b[0m 9ms/step - loss: 2608904960.0000 - mae: 38190.7539 - val_loss: 5479374336.0000 - val_mae: 50416.0977\n",
            "Epoch 20/100\n",
            "\u001b[1m24/24\u001b[0m \u001b[32m━━━━━━━━━━━━━━━━━━━━\u001b[0m\u001b[37m\u001b[0m \u001b[1m0s\u001b[0m 9ms/step - loss: 2341018112.0000 - mae: 36105.2422 - val_loss: 5326703104.0000 - val_mae: 48928.8594\n",
            "Epoch 21/100\n",
            "\u001b[1m24/24\u001b[0m \u001b[32m━━━━━━━━━━━━━━━━━━━━\u001b[0m\u001b[37m\u001b[0m \u001b[1m0s\u001b[0m 8ms/step - loss: 2506488832.0000 - mae: 35317.6484 - val_loss: 5236979200.0000 - val_mae: 47743.9375\n",
            "Epoch 22/100\n",
            "\u001b[1m24/24\u001b[0m \u001b[32m━━━━━━━━━━━━━━━━━━━━\u001b[0m\u001b[37m\u001b[0m \u001b[1m0s\u001b[0m 7ms/step - loss: 1841741056.0000 - mae: 32181.7441 - val_loss: 5160575488.0000 - val_mae: 47190.9570\n",
            "Epoch 23/100\n",
            "\u001b[1m24/24\u001b[0m \u001b[32m━━━━━━━━━━━━━━━━━━━━\u001b[0m\u001b[37m\u001b[0m \u001b[1m0s\u001b[0m 5ms/step - loss: 1675671424.0000 - mae: 30672.4961 - val_loss: 5083691520.0000 - val_mae: 46684.1406\n",
            "Epoch 24/100\n",
            "\u001b[1m24/24\u001b[0m \u001b[32m━━━━━━━━━━━━━━━━━━━━\u001b[0m\u001b[37m\u001b[0m \u001b[1m0s\u001b[0m 5ms/step - loss: 1522843776.0000 - mae: 29274.5918 - val_loss: 5056263680.0000 - val_mae: 45879.5469\n",
            "Epoch 25/100\n",
            "\u001b[1m24/24\u001b[0m \u001b[32m━━━━━━━━━━━━━━━━━━━━\u001b[0m\u001b[37m\u001b[0m \u001b[1m0s\u001b[0m 5ms/step - loss: 1797393920.0000 - mae: 31754.4902 - val_loss: 5009106944.0000 - val_mae: 45496.4531\n",
            "Epoch 26/100\n",
            "\u001b[1m24/24\u001b[0m \u001b[32m━━━━━━━━━━━━━━━━━━━━\u001b[0m\u001b[37m\u001b[0m \u001b[1m0s\u001b[0m 5ms/step - loss: 1399942784.0000 - mae: 28345.8340 - val_loss: 4972084736.0000 - val_mae: 45255.7969\n",
            "Epoch 27/100\n",
            "\u001b[1m24/24\u001b[0m \u001b[32m━━━━━━━━━━━━━━━━━━━━\u001b[0m\u001b[37m\u001b[0m \u001b[1m0s\u001b[0m 6ms/step - loss: 1429300352.0000 - mae: 28758.2617 - val_loss: 4948048384.0000 - val_mae: 44758.4453\n",
            "Epoch 28/100\n",
            "\u001b[1m24/24\u001b[0m \u001b[32m━━━━━━━━━━━━━━━━━━━━\u001b[0m\u001b[37m\u001b[0m \u001b[1m0s\u001b[0m 6ms/step - loss: 1408630656.0000 - mae: 28228.6094 - val_loss: 4917475328.0000 - val_mae: 44295.6641\n",
            "Epoch 29/100\n",
            "\u001b[1m24/24\u001b[0m \u001b[32m━━━━━━━━━━━━━━━━━━━━\u001b[0m\u001b[37m\u001b[0m \u001b[1m0s\u001b[0m 6ms/step - loss: 1311188480.0000 - mae: 27274.1289 - val_loss: 4906673664.0000 - val_mae: 43839.1211\n",
            "Epoch 30/100\n",
            "\u001b[1m24/24\u001b[0m \u001b[32m━━━━━━━━━━━━━━━━━━━━\u001b[0m\u001b[37m\u001b[0m \u001b[1m0s\u001b[0m 6ms/step - loss: 1399994240.0000 - mae: 27564.5684 - val_loss: 4870635008.0000 - val_mae: 43764.5039\n",
            "Epoch 31/100\n",
            "\u001b[1m24/24\u001b[0m \u001b[32m━━━━━━━━━━━━━━━━━━━━\u001b[0m\u001b[37m\u001b[0m \u001b[1m0s\u001b[0m 5ms/step - loss: 1465335424.0000 - mae: 28336.5469 - val_loss: 4847818752.0000 - val_mae: 43530.6133\n",
            "Epoch 32/100\n",
            "\u001b[1m24/24\u001b[0m \u001b[32m━━━━━━━━━━━━━━━━━━━━\u001b[0m\u001b[37m\u001b[0m \u001b[1m0s\u001b[0m 5ms/step - loss: 1314732800.0000 - mae: 26585.8184 - val_loss: 4834444288.0000 - val_mae: 43132.1758\n",
            "Epoch 33/100\n",
            "\u001b[1m24/24\u001b[0m \u001b[32m━━━━━━━━━━━━━━━━━━━━\u001b[0m\u001b[37m\u001b[0m \u001b[1m0s\u001b[0m 6ms/step - loss: 1203782272.0000 - mae: 25849.4531 - val_loss: 4802561024.0000 - val_mae: 42936.5312\n",
            "Epoch 34/100\n",
            "\u001b[1m24/24\u001b[0m \u001b[32m━━━━━━━━━━━━━━━━━━━━\u001b[0m\u001b[37m\u001b[0m \u001b[1m0s\u001b[0m 6ms/step - loss: 1163313408.0000 - mae: 25589.8652 - val_loss: 4781810688.0000 - val_mae: 42837.3555\n",
            "Epoch 35/100\n",
            "\u001b[1m24/24\u001b[0m \u001b[32m━━━━━━━━━━━━━━━━━━━━\u001b[0m\u001b[37m\u001b[0m \u001b[1m0s\u001b[0m 6ms/step - loss: 1072210304.0000 - mae: 24500.1719 - val_loss: 4769047552.0000 - val_mae: 42515.4180\n",
            "Epoch 36/100\n",
            "\u001b[1m24/24\u001b[0m \u001b[32m━━━━━━━━━━━━━━━━━━━━\u001b[0m\u001b[37m\u001b[0m \u001b[1m0s\u001b[0m 6ms/step - loss: 1118220288.0000 - mae: 24385.3320 - val_loss: 4734746624.0000 - val_mae: 42491.2461\n",
            "Epoch 37/100\n",
            "\u001b[1m24/24\u001b[0m \u001b[32m━━━━━━━━━━━━━━━━━━━━\u001b[0m\u001b[37m\u001b[0m \u001b[1m0s\u001b[0m 6ms/step - loss: 1031153408.0000 - mae: 24696.4844 - val_loss: 4725512192.0000 - val_mae: 42218.1797\n",
            "Epoch 38/100\n",
            "\u001b[1m24/24\u001b[0m \u001b[32m━━━━━━━━━━━━━━━━━━━━\u001b[0m\u001b[37m\u001b[0m \u001b[1m0s\u001b[0m 6ms/step - loss: 907525120.0000 - mae: 23123.8457 - val_loss: 4720756224.0000 - val_mae: 41977.4297\n",
            "Epoch 39/100\n",
            "\u001b[1m24/24\u001b[0m \u001b[32m━━━━━━━━━━━━━━━━━━━━\u001b[0m\u001b[37m\u001b[0m \u001b[1m0s\u001b[0m 6ms/step - loss: 1019027904.0000 - mae: 23450.7500 - val_loss: 4708440064.0000 - val_mae: 41681.3516\n",
            "Epoch 40/100\n",
            "\u001b[1m24/24\u001b[0m \u001b[32m━━━━━━━━━━━━━━━━━━━━\u001b[0m\u001b[37m\u001b[0m \u001b[1m0s\u001b[0m 8ms/step - loss: 976646720.0000 - mae: 23249.8457 - val_loss: 4683969536.0000 - val_mae: 41644.9023\n",
            "Epoch 41/100\n",
            "\u001b[1m24/24\u001b[0m \u001b[32m━━━━━━━━━━━━━━━━━━━━\u001b[0m\u001b[37m\u001b[0m \u001b[1m0s\u001b[0m 5ms/step - loss: 1141998208.0000 - mae: 24473.3633 - val_loss: 4668147712.0000 - val_mae: 41401.8281\n",
            "Epoch 42/100\n",
            "\u001b[1m24/24\u001b[0m \u001b[32m━━━━━━━━━━━━━━━━━━━━\u001b[0m\u001b[37m\u001b[0m \u001b[1m0s\u001b[0m 5ms/step - loss: 868646272.0000 - mae: 22139.0977 - val_loss: 4649492480.0000 - val_mae: 41245.1875\n",
            "Epoch 43/100\n",
            "\u001b[1m24/24\u001b[0m \u001b[32m━━━━━━━━━━━━━━━━━━━━\u001b[0m\u001b[37m\u001b[0m \u001b[1m0s\u001b[0m 6ms/step - loss: 893004992.0000 - mae: 21662.4180 - val_loss: 4658340352.0000 - val_mae: 40844.0625\n",
            "Epoch 44/100\n",
            "\u001b[1m24/24\u001b[0m \u001b[32m━━━━━━━━━━━━━━━━━━━━\u001b[0m\u001b[37m\u001b[0m \u001b[1m0s\u001b[0m 6ms/step - loss: 795803904.0000 - mae: 20870.3379 - val_loss: 4628538368.0000 - val_mae: 40980.9805\n",
            "Epoch 45/100\n",
            "\u001b[1m24/24\u001b[0m \u001b[32m━━━━━━━━━━━━━━━━━━━━\u001b[0m\u001b[37m\u001b[0m \u001b[1m0s\u001b[0m 6ms/step - loss: 890060160.0000 - mae: 22128.3047 - val_loss: 4628933632.0000 - val_mae: 40664.6133\n",
            "Epoch 46/100\n",
            "\u001b[1m24/24\u001b[0m \u001b[32m━━━━━━━━━━━━━━━━━━━━\u001b[0m\u001b[37m\u001b[0m \u001b[1m0s\u001b[0m 5ms/step - loss: 801440640.0000 - mae: 21602.0352 - val_loss: 4613652992.0000 - val_mae: 40586.9531\n",
            "Epoch 47/100\n",
            "\u001b[1m24/24\u001b[0m \u001b[32m━━━━━━━━━━━━━━━━━━━━\u001b[0m\u001b[37m\u001b[0m \u001b[1m0s\u001b[0m 6ms/step - loss: 778368576.0000 - mae: 20784.1191 - val_loss: 4576276992.0000 - val_mae: 40410.0625\n",
            "Epoch 48/100\n",
            "\u001b[1m24/24\u001b[0m \u001b[32m━━━━━━━━━━━━━━━━━━━━\u001b[0m\u001b[37m\u001b[0m \u001b[1m0s\u001b[0m 6ms/step - loss: 715571776.0000 - mae: 20432.4258 - val_loss: 4561161216.0000 - val_mae: 40356.9961\n",
            "Epoch 49/100\n",
            "\u001b[1m24/24\u001b[0m \u001b[32m━━━━━━━━━━━━━━━━━━━━\u001b[0m\u001b[37m\u001b[0m \u001b[1m0s\u001b[0m 5ms/step - loss: 841299648.0000 - mae: 21217.3320 - val_loss: 4552971776.0000 - val_mae: 40095.8633\n",
            "Epoch 50/100\n",
            "\u001b[1m24/24\u001b[0m \u001b[32m━━━━━━━━━━━━━━━━━━━━\u001b[0m\u001b[37m\u001b[0m \u001b[1m0s\u001b[0m 5ms/step - loss: 828068032.0000 - mae: 20693.1484 - val_loss: 4547619840.0000 - val_mae: 39920.6055\n",
            "Epoch 51/100\n",
            "\u001b[1m24/24\u001b[0m \u001b[32m━━━━━━━━━━━━━━━━━━━━\u001b[0m\u001b[37m\u001b[0m \u001b[1m0s\u001b[0m 5ms/step - loss: 691114752.0000 - mae: 19503.6895 - val_loss: 4529044480.0000 - val_mae: 39926.1680\n",
            "Epoch 52/100\n",
            "\u001b[1m24/24\u001b[0m \u001b[32m━━━━━━━━━━━━━━━━━━━━\u001b[0m\u001b[37m\u001b[0m \u001b[1m0s\u001b[0m 5ms/step - loss: 754979136.0000 - mae: 20317.9648 - val_loss: 4524083712.0000 - val_mae: 39660.3867\n",
            "Epoch 53/100\n",
            "\u001b[1m24/24\u001b[0m \u001b[32m━━━━━━━━━━━━━━━━━━━━\u001b[0m\u001b[37m\u001b[0m \u001b[1m0s\u001b[0m 7ms/step - loss: 879358912.0000 - mae: 20448.5391 - val_loss: 4524138496.0000 - val_mae: 39498.1445\n",
            "Epoch 54/100\n",
            "\u001b[1m24/24\u001b[0m \u001b[32m━━━━━━━━━━━━━━━━━━━━\u001b[0m\u001b[37m\u001b[0m \u001b[1m0s\u001b[0m 6ms/step - loss: 687068224.0000 - mae: 19532.9648 - val_loss: 4499638784.0000 - val_mae: 39433.1328\n",
            "Epoch 55/100\n",
            "\u001b[1m24/24\u001b[0m \u001b[32m━━━━━━━━━━━━━━━━━━━━\u001b[0m\u001b[37m\u001b[0m \u001b[1m0s\u001b[0m 7ms/step - loss: 858608960.0000 - mae: 19792.1855 - val_loss: 4486216192.0000 - val_mae: 39334.9609\n",
            "Epoch 56/100\n",
            "\u001b[1m24/24\u001b[0m \u001b[32m━━━━━━━━━━━━━━━━━━━━\u001b[0m\u001b[37m\u001b[0m \u001b[1m0s\u001b[0m 6ms/step - loss: 715156352.0000 - mae: 18613.6855 - val_loss: 4482142208.0000 - val_mae: 39128.4961\n",
            "Epoch 57/100\n",
            "\u001b[1m24/24\u001b[0m \u001b[32m━━━━━━━━━━━━━━━━━━━━\u001b[0m\u001b[37m\u001b[0m \u001b[1m0s\u001b[0m 7ms/step - loss: 659080768.0000 - mae: 18625.3691 - val_loss: 4469402624.0000 - val_mae: 39063.7891\n",
            "Epoch 58/100\n",
            "\u001b[1m24/24\u001b[0m \u001b[32m━━━━━━━━━━━━━━━━━━━━\u001b[0m\u001b[37m\u001b[0m \u001b[1m0s\u001b[0m 6ms/step - loss: 672774400.0000 - mae: 19187.1699 - val_loss: 4466201088.0000 - val_mae: 38916.1562\n",
            "Epoch 59/100\n",
            "\u001b[1m24/24\u001b[0m \u001b[32m━━━━━━━━━━━━━━━━━━━━\u001b[0m\u001b[37m\u001b[0m \u001b[1m0s\u001b[0m 5ms/step - loss: 708185728.0000 - mae: 18778.0449 - val_loss: 4450169344.0000 - val_mae: 38774.8477\n",
            "Epoch 60/100\n",
            "\u001b[1m24/24\u001b[0m \u001b[32m━━━━━━━━━━━━━━━━━━━━\u001b[0m\u001b[37m\u001b[0m \u001b[1m0s\u001b[0m 7ms/step - loss: 621758592.0000 - mae: 17961.8496 - val_loss: 4440809472.0000 - val_mae: 38687.8359\n",
            "Epoch 61/100\n",
            "\u001b[1m24/24\u001b[0m \u001b[32m━━━━━━━━━━━━━━━━━━━━\u001b[0m\u001b[37m\u001b[0m \u001b[1m0s\u001b[0m 6ms/step - loss: 697852672.0000 - mae: 18736.6992 - val_loss: 4421469184.0000 - val_mae: 38609.5859\n",
            "Epoch 62/100\n",
            "\u001b[1m24/24\u001b[0m \u001b[32m━━━━━━━━━━━━━━━━━━━━\u001b[0m\u001b[37m\u001b[0m \u001b[1m0s\u001b[0m 5ms/step - loss: 560681728.0000 - mae: 16944.3066 - val_loss: 4417246720.0000 - val_mae: 38437.6719\n",
            "Epoch 63/100\n",
            "\u001b[1m24/24\u001b[0m \u001b[32m━━━━━━━━━━━━━━━━━━━━\u001b[0m\u001b[37m\u001b[0m \u001b[1m0s\u001b[0m 8ms/step - loss: 622599232.0000 - mae: 18011.2402 - val_loss: 4401987584.0000 - val_mae: 38424.5586\n",
            "Epoch 64/100\n",
            "\u001b[1m24/24\u001b[0m \u001b[32m━━━━━━━━━━━━━━━━━━━━\u001b[0m\u001b[37m\u001b[0m \u001b[1m0s\u001b[0m 5ms/step - loss: 580803136.0000 - mae: 17734.8105 - val_loss: 4394686464.0000 - val_mae: 38257.7344\n",
            "Epoch 65/100\n",
            "\u001b[1m24/24\u001b[0m \u001b[32m━━━━━━━━━━━━━━━━━━━━\u001b[0m\u001b[37m\u001b[0m \u001b[1m0s\u001b[0m 5ms/step - loss: 534432000.0000 - mae: 16868.6719 - val_loss: 4390763520.0000 - val_mae: 38189.6914\n",
            "Epoch 66/100\n",
            "\u001b[1m24/24\u001b[0m \u001b[32m━━━━━━━━━━━━━━━━━━━━\u001b[0m\u001b[37m\u001b[0m \u001b[1m0s\u001b[0m 7ms/step - loss: 693931520.0000 - mae: 18198.3457 - val_loss: 4400782848.0000 - val_mae: 37969.7227\n",
            "Epoch 67/100\n",
            "\u001b[1m24/24\u001b[0m \u001b[32m━━━━━━━━━━━━━━━━━━━━\u001b[0m\u001b[37m\u001b[0m \u001b[1m0s\u001b[0m 16ms/step - loss: 699894784.0000 - mae: 17942.8125 - val_loss: 4389164544.0000 - val_mae: 37896.6367\n",
            "Epoch 68/100\n",
            "\u001b[1m24/24\u001b[0m \u001b[32m━━━━━━━━━━━━━━━━━━━━\u001b[0m\u001b[37m\u001b[0m \u001b[1m0s\u001b[0m 8ms/step - loss: 578192192.0000 - mae: 17066.0137 - val_loss: 4368316928.0000 - val_mae: 37838.1758\n",
            "Epoch 69/100\n",
            "\u001b[1m24/24\u001b[0m \u001b[32m━━━━━━━━━━━━━━━━━━━━\u001b[0m\u001b[37m\u001b[0m \u001b[1m0s\u001b[0m 8ms/step - loss: 517622272.0000 - mae: 16805.4219 - val_loss: 4354169344.0000 - val_mae: 37712.1914\n",
            "Epoch 70/100\n",
            "\u001b[1m24/24\u001b[0m \u001b[32m━━━━━━━━━━━━━━━━━━━━\u001b[0m\u001b[37m\u001b[0m \u001b[1m0s\u001b[0m 9ms/step - loss: 577030528.0000 - mae: 17439.0781 - val_loss: 4349051904.0000 - val_mae: 37568.7188\n",
            "Epoch 71/100\n",
            "\u001b[1m24/24\u001b[0m \u001b[32m━━━━━━━━━━━━━━━━━━━━\u001b[0m\u001b[37m\u001b[0m \u001b[1m0s\u001b[0m 9ms/step - loss: 585676800.0000 - mae: 17075.4668 - val_loss: 4343606272.0000 - val_mae: 37484.8789\n",
            "Epoch 72/100\n",
            "\u001b[1m24/24\u001b[0m \u001b[32m━━━━━━━━━━━━━━━━━━━━\u001b[0m\u001b[37m\u001b[0m \u001b[1m0s\u001b[0m 10ms/step - loss: 542379072.0000 - mae: 16217.0967 - val_loss: 4334952448.0000 - val_mae: 37377.9609\n",
            "Epoch 73/100\n",
            "\u001b[1m24/24\u001b[0m \u001b[32m━━━━━━━━━━━━━━━━━━━━\u001b[0m\u001b[37m\u001b[0m \u001b[1m0s\u001b[0m 7ms/step - loss: 546944384.0000 - mae: 16288.4004 - val_loss: 4324474880.0000 - val_mae: 37250.0742\n",
            "Epoch 74/100\n",
            "\u001b[1m24/24\u001b[0m \u001b[32m━━━━━━━━━━━━━━━━━━━━\u001b[0m\u001b[37m\u001b[0m \u001b[1m0s\u001b[0m 5ms/step - loss: 507021696.0000 - mae: 15401.6807 - val_loss: 4318119424.0000 - val_mae: 37144.0977\n",
            "Epoch 75/100\n",
            "\u001b[1m24/24\u001b[0m \u001b[32m━━━━━━━━━━━━━━━━━━━━\u001b[0m\u001b[37m\u001b[0m \u001b[1m0s\u001b[0m 5ms/step - loss: 496728288.0000 - mae: 15498.9629 - val_loss: 4305332736.0000 - val_mae: 37138.0898\n",
            "Epoch 76/100\n",
            "\u001b[1m24/24\u001b[0m \u001b[32m━━━━━━━━━━━━━━━━━━━━\u001b[0m\u001b[37m\u001b[0m \u001b[1m0s\u001b[0m 7ms/step - loss: 479600160.0000 - mae: 15160.1523 - val_loss: 4310143488.0000 - val_mae: 37010.4766\n",
            "Epoch 77/100\n",
            "\u001b[1m24/24\u001b[0m \u001b[32m━━━━━━━━━━━━━━━━━━━━\u001b[0m\u001b[37m\u001b[0m \u001b[1m0s\u001b[0m 5ms/step - loss: 474946944.0000 - mae: 15561.6582 - val_loss: 4291904512.0000 - val_mae: 36876.4688\n",
            "Epoch 78/100\n",
            "\u001b[1m24/24\u001b[0m \u001b[32m━━━━━━━━━━━━━━━━━━━━\u001b[0m\u001b[37m\u001b[0m \u001b[1m0s\u001b[0m 6ms/step - loss: 478366592.0000 - mae: 15614.7207 - val_loss: 4280630272.0000 - val_mae: 36859.5547\n",
            "Epoch 79/100\n",
            "\u001b[1m24/24\u001b[0m \u001b[32m━━━━━━━━━━━━━━━━━━━━\u001b[0m\u001b[37m\u001b[0m \u001b[1m0s\u001b[0m 7ms/step - loss: 591403072.0000 - mae: 15900.5781 - val_loss: 4285760256.0000 - val_mae: 36758.9297\n",
            "Epoch 80/100\n",
            "\u001b[1m24/24\u001b[0m \u001b[32m━━━━━━━━━━━━━━━━━━━━\u001b[0m\u001b[37m\u001b[0m \u001b[1m0s\u001b[0m 8ms/step - loss: 497737376.0000 - mae: 14568.7285 - val_loss: 4272504320.0000 - val_mae: 36714.5977\n",
            "Epoch 81/100\n",
            "\u001b[1m24/24\u001b[0m \u001b[32m━━━━━━━━━━━━━━━━━━━━\u001b[0m\u001b[37m\u001b[0m \u001b[1m0s\u001b[0m 6ms/step - loss: 591888384.0000 - mae: 16146.0840 - val_loss: 4270423296.0000 - val_mae: 36605.3359\n",
            "Epoch 82/100\n",
            "\u001b[1m24/24\u001b[0m \u001b[32m━━━━━━━━━━━━━━━━━━━━\u001b[0m\u001b[37m\u001b[0m \u001b[1m0s\u001b[0m 5ms/step - loss: 523855328.0000 - mae: 15298.7041 - val_loss: 4264668672.0000 - val_mae: 36453.3867\n",
            "Epoch 83/100\n",
            "\u001b[1m24/24\u001b[0m \u001b[32m━━━━━━━━━━━━━━━━━━━━\u001b[0m\u001b[37m\u001b[0m \u001b[1m0s\u001b[0m 5ms/step - loss: 427501376.0000 - mae: 14448.5029 - val_loss: 4262859520.0000 - val_mae: 36411.7227\n",
            "Epoch 84/100\n",
            "\u001b[1m24/24\u001b[0m \u001b[32m━━━━━━━━━━━━━━━━━━━━\u001b[0m\u001b[37m\u001b[0m \u001b[1m0s\u001b[0m 6ms/step - loss: 562314880.0000 - mae: 15988.5566 - val_loss: 4250799104.0000 - val_mae: 36318.8203\n",
            "Epoch 85/100\n",
            "\u001b[1m24/24\u001b[0m \u001b[32m━━━━━━━━━━━━━━━━━━━━\u001b[0m\u001b[37m\u001b[0m \u001b[1m0s\u001b[0m 5ms/step - loss: 471380256.0000 - mae: 14751.7402 - val_loss: 4242748672.0000 - val_mae: 36217.2656\n",
            "Epoch 86/100\n",
            "\u001b[1m24/24\u001b[0m \u001b[32m━━━━━━━━━━━━━━━━━━━━\u001b[0m\u001b[37m\u001b[0m \u001b[1m0s\u001b[0m 6ms/step - loss: 465707904.0000 - mae: 14650.0791 - val_loss: 4239472384.0000 - val_mae: 36104.7344\n",
            "Epoch 87/100\n",
            "\u001b[1m24/24\u001b[0m \u001b[32m━━━━━━━━━━━━━━━━━━━━\u001b[0m\u001b[37m\u001b[0m \u001b[1m0s\u001b[0m 7ms/step - loss: 460371360.0000 - mae: 13968.0859 - val_loss: 4229886976.0000 - val_mae: 36072.8438\n",
            "Epoch 88/100\n",
            "\u001b[1m24/24\u001b[0m \u001b[32m━━━━━━━━━━━━━━━━━━━━\u001b[0m\u001b[37m\u001b[0m \u001b[1m0s\u001b[0m 6ms/step - loss: 441325664.0000 - mae: 14468.9775 - val_loss: 4205172224.0000 - val_mae: 35938.0742\n",
            "Epoch 89/100\n",
            "\u001b[1m24/24\u001b[0m \u001b[32m━━━━━━━━━━━━━━━━━━━━\u001b[0m\u001b[37m\u001b[0m \u001b[1m0s\u001b[0m 6ms/step - loss: 466429312.0000 - mae: 14802.3311 - val_loss: 4197200896.0000 - val_mae: 35887.6367\n",
            "Epoch 90/100\n",
            "\u001b[1m24/24\u001b[0m \u001b[32m━━━━━━━━━━━━━━━━━━━━\u001b[0m\u001b[37m\u001b[0m \u001b[1m0s\u001b[0m 6ms/step - loss: 441624736.0000 - mae: 14174.1855 - val_loss: 4207277312.0000 - val_mae: 35841.8828\n",
            "Epoch 91/100\n",
            "\u001b[1m24/24\u001b[0m \u001b[32m━━━━━━━━━━━━━━━━━━━━\u001b[0m\u001b[37m\u001b[0m \u001b[1m0s\u001b[0m 5ms/step - loss: 438168128.0000 - mae: 14358.3398 - val_loss: 4193945600.0000 - val_mae: 35798.3320\n",
            "Epoch 92/100\n",
            "\u001b[1m24/24\u001b[0m \u001b[32m━━━━━━━━━━━━━━━━━━━━\u001b[0m\u001b[37m\u001b[0m \u001b[1m0s\u001b[0m 5ms/step - loss: 384618240.0000 - mae: 13587.4209 - val_loss: 4195216128.0000 - val_mae: 35733.1953\n",
            "Epoch 93/100\n",
            "\u001b[1m24/24\u001b[0m \u001b[32m━━━━━━━━━━━━━━━━━━━━\u001b[0m\u001b[37m\u001b[0m \u001b[1m0s\u001b[0m 8ms/step - loss: 483749952.0000 - mae: 14623.0117 - val_loss: 4197356544.0000 - val_mae: 35647.3672\n",
            "Epoch 94/100\n",
            "\u001b[1m24/24\u001b[0m \u001b[32m━━━━━━━━━━━━━━━━━━━━\u001b[0m\u001b[37m\u001b[0m \u001b[1m0s\u001b[0m 6ms/step - loss: 458886624.0000 - mae: 13916.9512 - val_loss: 4189229568.0000 - val_mae: 35579.6992\n",
            "Epoch 95/100\n",
            "\u001b[1m24/24\u001b[0m \u001b[32m━━━━━━━━━━━━━━━━━━━━\u001b[0m\u001b[37m\u001b[0m \u001b[1m0s\u001b[0m 6ms/step - loss: 384425184.0000 - mae: 13513.0938 - val_loss: 4171213824.0000 - val_mae: 35449.8164\n",
            "Epoch 96/100\n",
            "\u001b[1m24/24\u001b[0m \u001b[32m━━━━━━━━━━━━━━━━━━━━\u001b[0m\u001b[37m\u001b[0m \u001b[1m0s\u001b[0m 5ms/step - loss: 334749984.0000 - mae: 12790.2012 - val_loss: 4176303104.0000 - val_mae: 35427.5117\n",
            "Epoch 97/100\n",
            "\u001b[1m24/24\u001b[0m \u001b[32m━━━━━━━━━━━━━━━━━━━━\u001b[0m\u001b[37m\u001b[0m \u001b[1m0s\u001b[0m 6ms/step - loss: 401846496.0000 - mae: 13394.3936 - val_loss: 4170641408.0000 - val_mae: 35354.8008\n",
            "Epoch 98/100\n",
            "\u001b[1m24/24\u001b[0m \u001b[32m━━━━━━━━━━━━━━━━━━━━\u001b[0m\u001b[37m\u001b[0m \u001b[1m0s\u001b[0m 5ms/step - loss: 471774176.0000 - mae: 13991.1211 - val_loss: 4164150016.0000 - val_mae: 35315.8906\n",
            "Epoch 99/100\n",
            "\u001b[1m24/24\u001b[0m \u001b[32m━━━━━━━━━━━━━━━━━━━━\u001b[0m\u001b[37m\u001b[0m \u001b[1m0s\u001b[0m 6ms/step - loss: 426291456.0000 - mae: 13749.9033 - val_loss: 4146080256.0000 - val_mae: 35201.5039\n",
            "Epoch 100/100\n",
            "\u001b[1m24/24\u001b[0m \u001b[32m━━━━━━━━━━━━━━━━━━━━\u001b[0m\u001b[37m\u001b[0m \u001b[1m0s\u001b[0m 5ms/step - loss: 410121312.0000 - mae: 12847.6816 - val_loss: 4154972928.0000 - val_mae: 35146.7031\n"
          ]
        }
      ],
      "source": [
        "history = model.fit(\n",
        "    X_train, y_train,\n",
        "    validation_split=0.2,\n",
        "    epochs=100,\n",
        "    batch_size=32,\n",
        "    verbose=1\n",
        ")"
      ]
    },
    {
      "cell_type": "code",
      "execution_count": 9,
      "metadata": {
        "colab": {
          "base_uri": "https://localhost:8080/"
        },
        "id": "ZXWkH2qTcYjK",
        "outputId": "53b6d19b-f36b-41b3-8fa0-d6c730c69074"
      },
      "outputs": [
        {
          "output_type": "stream",
          "name": "stdout",
          "text": [
            "✅ Test Mean Absolute Error: 26660.30\n",
            "\u001b[1m8/8\u001b[0m \u001b[32m━━━━━━━━━━━━━━━━━━━━\u001b[0m\u001b[37m\u001b[0m \u001b[1m0s\u001b[0m 9ms/step \n"
          ]
        }
      ],
      "source": [
        "loss, mae = model.evaluate(X_test, y_test, verbose=0)\n",
        "print(f\"✅ Test Mean Absolute Error: {mae:.2f}\")\n",
        "\n",
        "# Predictions\n",
        "y_pred = model.predict(X_test).flatten()"
      ]
    },
    {
      "cell_type": "code",
      "execution_count": 10,
      "metadata": {
        "colab": {
          "base_uri": "https://localhost:8080/",
          "height": 465
        },
        "id": "LGN0YlWxcdad",
        "outputId": "87d22f7d-d31c-402d-ad74-de05e9cebbcd"
      },
      "outputs": [
        {
          "output_type": "display_data",
          "data": {
            "text/plain": [
              "<Figure size 800x500 with 1 Axes>"
            ],
            "image/png": "[encoded data removed]"
          },
          "metadata": {}
        }
      ],
      "source": [
        "plt.figure(figsize=(8,5))\n",
        "plt.plot(history.history['mae'], label='Train MAE')\n",
        "plt.plot(history.history['val_mae'], label='Validation MAE')\n",
        "plt.xlabel(\"Epochs\")\n",
        "plt.ylabel(\"Mean Absolute Error\")\n",
        "plt.legend()\n",
        "plt.show()"
      ]
    },
    {
      "cell_type": "code",
      "execution_count": 11,
      "metadata": {
        "colab": {
          "base_uri": "https://localhost:8080/"
        },
        "id": "PF0s3210cg7A",
        "outputId": "6f891384-bf45-4ec9-d0b4-76f1540ab276"
      },
      "outputs": [
        {
          "output_type": "stream",
          "name": "stdout",
          "text": [
            "    Actual      Predicted\n",
            "0   272000  316707.625000\n",
            "1   108959  111804.867188\n",
            "2   137500  137517.343750\n",
            "3   123500  108685.265625\n",
            "4   155835  199272.515625\n",
            "5   155000  153556.187500\n",
            "6   129000   97907.195312\n",
            "7   144000     361.297058\n",
            "8   145000  165086.500000\n",
            "9   175500  156568.468750\n",
            "10  264132  266856.718750\n",
            "11  109500   88831.453125\n",
            "12  187750  193940.218750\n",
            "13  223500  168002.140625\n",
            "14  188500  189089.750000\n",
            "15  235000  218801.234375\n",
            "16  149000  118491.843750\n",
            "17  101000  125927.867188\n",
            "18  225000  152298.015625\n",
            "19  176432  171170.593750\n"
          ]
        }
      ],
      "source": [
        "comparison = pd.DataFrame({\"Actual\": y_test.values[:20], \"Predicted\": y_pred[:20]})\n",
        "print(comparison)"
      ]
    }
  ],
  "metadata": {
    "colab": {
      "provenance": [],
      "include_colab_link": true
    },
    "kernelspec": {
      "display_name": "Python 3",
      "name": "python3"
    },
    "language_info": {
      "name": "python"
    }
  },
  "nbformat": 4,
  "nbformat_minor": 0
}